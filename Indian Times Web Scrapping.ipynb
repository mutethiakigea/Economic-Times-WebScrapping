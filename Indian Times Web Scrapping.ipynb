{
 "cells": [
  {
   "cell_type": "markdown",
   "id": "20c46452",
   "metadata": {},
   "source": [
    "# Indian Times"
   ]
  },
  {
   "cell_type": "markdown",
   "id": "eee57b58",
   "metadata": {},
   "source": [
    "India's top English-language business daily is The Economic Times. It is primarily acknowledged as one of the nation's most essential and reliable sources of financial news and analysis. Business, economy, money, markets, industry, and policy are just a few of the many themes covered by the publication. It offers in-depth pieces on various sectors and initiatives and thorough coverage of domestic and international business news, stock market updates, corporate announcements, and expert perspectives.\n",
    "\n",
    "The Economic Times is renowned for its thorough reporting, perceptive essays, and market analysis. Business experts, investors, policymakers, and anybody else interested in staying current on the most recent happenings in the Indian and worldwide economy are among the many readers it serves.\n",
    "\n",
    "One of India's leading media companies, The Times Group, a part of Bennett, Coleman & Co. Ltd., publishes the daily. The Economic Times also has a mobile app and website that offer real-time market data, news updates, and other financial information."
   ]
  },
  {
   "cell_type": "code",
   "execution_count": 1,
   "id": "1d444d6d",
   "metadata": {
    "scrolled": true
   },
   "outputs": [
    {
     "name": "stdout",
     "output_type": "stream",
     "text": [
      "Requirement already satisfied: beautifulsoup4 in c:\\programdata\\anaconda3\\lib\\site-packages (4.9.3)\n",
      "Requirement already satisfied: soupsieve>1.2 in c:\\programdata\\anaconda3\\lib\\site-packages (from beautifulsoup4) (2.2.1)\n"
     ]
    }
   ],
   "source": [
    "! pip install beautifulsoup4\n"
   ]
  },
  {
   "cell_type": "code",
   "execution_count": 7,
   "id": "992e40a9",
   "metadata": {},
   "outputs": [],
   "source": [
    "import bs4"
   ]
  },
  {
   "cell_type": "code",
   "execution_count": 8,
   "id": "932d8253",
   "metadata": {},
   "outputs": [],
   "source": [
    "import requests\n",
    "from bs4 import BeautifulSoup"
   ]
  },
  {
   "cell_type": "code",
   "execution_count": 9,
   "id": "41568ec8",
   "metadata": {},
   "outputs": [],
   "source": [
    "url=\"https://economictimes.indiatimes.com/markets/stocks/news\""
   ]
  },
  {
   "cell_type": "code",
   "execution_count": 10,
   "id": "f58d89d5",
   "metadata": {},
   "outputs": [],
   "source": [
    "headers = {\n",
    "    'User-Agent': \"Mozilla/5.0 (Windows NT 10.0; Win64; x64) AppleWebKit/537.36 (KHTML, like Gecko) Chrome/114.0.0.0 Safari/537.36\"\n",
    "}"
   ]
  },
  {
   "cell_type": "code",
   "execution_count": 11,
   "id": "299a960a",
   "metadata": {},
   "outputs": [],
   "source": [
    "r=requests.get(url,{'headers':headers})"
   ]
  },
  {
   "cell_type": "code",
   "execution_count": 12,
   "id": "b5bf80fc",
   "metadata": {},
   "outputs": [],
   "source": [
    "soup = bs4.BeautifulSoup(r.text,'html.parser')"
   ]
  },
  {
   "cell_type": "code",
   "execution_count": 19,
   "id": "e1edb9e8",
   "metadata": {},
   "outputs": [
    {
     "data": {
      "text/plain": [
       "<a data-ga-onclick=\"1 - href\" data-orefid=\"p2146843_1\" href=\"/markets/stocks/news/another-disruption-in-making-10-things-to-know-about-jio-financial-demerger/articleshow/101644718.cms\" itemprop=\"url\"><meta content=\"Another disruption in making? 10 things to know about Jio Financial demerger\" itemprop=\"name\"/>Another disruption in making? 10 things to know about Jio Financial demerger</a>"
      ]
     },
     "execution_count": 19,
     "metadata": {},
     "output_type": "execute_result"
    }
   ],
   "source": [
    "soup.find_all('div',{'class': 'eachStory'})[0].find('a')"
   ]
  },
  {
   "cell_type": "code",
   "execution_count": 20,
   "id": "c6b313c0",
   "metadata": {},
   "outputs": [
    {
     "data": {
      "text/plain": [
       "'Another disruption in making? 10 things to know about Jio Financial demerger'"
      ]
     },
     "execution_count": 20,
     "metadata": {},
     "output_type": "execute_result"
    }
   ],
   "source": [
    "soup.find_all('div',{'class': 'eachStory'})[0].find_all('a')[-1].text"
   ]
  },
  {
   "cell_type": "markdown",
   "id": "c13913ef",
   "metadata": {},
   "source": [
    "# Conclusion"
   ]
  },
  {
   "cell_type": "markdown",
   "id": "6fe3a350",
   "metadata": {},
   "source": [
    "Web scraping can be necessary for a company like The Economic Times for several reasons:\n",
    "Data Collection: Web scraping allows companies to collect large amounts of data from various sources on the internet. For news organizations like The Economic Times, web scraping can help gather data from websites, blogs, social media platforms, and other online sources. This data can be used for market research, industry analysis, trend identification, and generating insights for news articles or reports.\n",
    "News Aggregation: The Economic Times may use web scraping to aggregate news articles and information from multiple sources. By scraping and consolidating news content from different websites, they can provide a comprehensive and diverse coverage of events and developments in the business and financial world. That helps them present a more complete picture to their readers.\n",
    "Monitoring Competitors: Web scraping can be used to track and monitor competitors' activities. The Economic Times can scrape data from competitors' websites, such as news articles, press releases, product updates, or financial reports. That enables them to stay updated on their competitors' strategies, market positioning, and industry trends, which can be valuable for their reporting and analysis.\n",
    "Market Analysis: Web scraping can provide real-time data on market trends, stock prices, economic indicators, and other financial information. The Economic Times can scrape data from stock exchanges, financial websites, or government portals to analyze market movements, track company performance, and provide valuable insights to their readers.\n",
    "Content Enrichment: Web scraping can help enrich the content of The Economic Times by providing additional data, statistics, or relevant information to support their articles or reports. For example, they can scrape data related to GDP, inflation rates, employment figures, or sector-specific data to provide a more comprehensive analysis of the economy or specific industries.\n"
   ]
  }
 ],
 "metadata": {
  "kernelspec": {
   "display_name": "Python 3",
   "language": "python",
   "name": "python3"
  },
  "language_info": {
   "codemirror_mode": {
    "name": "ipython",
    "version": 3
   },
   "file_extension": ".py",
   "mimetype": "text/x-python",
   "name": "python",
   "nbconvert_exporter": "python",
   "pygments_lexer": "ipython3",
   "version": "3.8.8"
  }
 },
 "nbformat": 4,
 "nbformat_minor": 5
}
